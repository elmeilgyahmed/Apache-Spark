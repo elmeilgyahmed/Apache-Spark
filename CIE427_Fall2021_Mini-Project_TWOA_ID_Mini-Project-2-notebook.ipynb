{
  "nbformat": 4,
  "nbformat_minor": 0,
  "metadata": {
    "colab": {
      "name": "Mini_Project_2.ipynb",
      "provenance": [],
      "collapsed_sections": [
        "GcuhW1aG2qUT",
        "ASbcQHwI2YDj",
        "4F1A8w5U6tTS",
        "UYeXYpGY3FxV"
      ]
    },
    "kernelspec": {
      "name": "python3",
      "display_name": "Python 3"
    },
    "language_info": {
      "name": "python"
    }
  },
  "cells": [
    {
      "cell_type": "code",
      "source": [
        "!pip install riotwatcher\n",
        "!pip install pyspark"
      ],
      "metadata": {
        "colab": {
          "base_uri": "https://localhost:8080/"
        },
        "id": "7OIOtp62NEbs",
        "outputId": "fc8e6d96-2c5b-4538-b320-cca9b9a13a7a"
      },
      "execution_count": 2,
      "outputs": [
        {
          "output_type": "stream",
          "name": "stdout",
          "text": [
            "Collecting riotwatcher\n",
            "  Downloading riotwatcher-3.2.0-py3-none-any.whl (56 kB)\n",
            "\u001b[?25l\r\u001b[K     |█████▊                          | 10 kB 19.0 MB/s eta 0:00:01\r\u001b[K     |███████████▌                    | 20 kB 25.3 MB/s eta 0:00:01\r\u001b[K     |█████████████████▎              | 30 kB 13.2 MB/s eta 0:00:01\r\u001b[K     |███████████████████████         | 40 kB 10.3 MB/s eta 0:00:01\r\u001b[K     |████████████████████████████▉   | 51 kB 5.0 MB/s eta 0:00:01\r\u001b[K     |████████████████████████████████| 56 kB 2.6 MB/s \n",
            "\u001b[?25hRequirement already satisfied: requests in /usr/local/lib/python3.7/dist-packages (from riotwatcher) (2.23.0)\n",
            "Requirement already satisfied: chardet<4,>=3.0.2 in /usr/local/lib/python3.7/dist-packages (from requests->riotwatcher) (3.0.4)\n",
            "Requirement already satisfied: urllib3!=1.25.0,!=1.25.1,<1.26,>=1.21.1 in /usr/local/lib/python3.7/dist-packages (from requests->riotwatcher) (1.24.3)\n",
            "Requirement already satisfied: certifi>=2017.4.17 in /usr/local/lib/python3.7/dist-packages (from requests->riotwatcher) (2021.10.8)\n",
            "Requirement already satisfied: idna<3,>=2.5 in /usr/local/lib/python3.7/dist-packages (from requests->riotwatcher) (2.10)\n",
            "Installing collected packages: riotwatcher\n",
            "Successfully installed riotwatcher-3.2.0\n",
            "Collecting pyspark\n",
            "  Downloading pyspark-3.2.0.tar.gz (281.3 MB)\n",
            "\u001b[K     |████████████████████████████████| 281.3 MB 40 kB/s \n",
            "\u001b[?25hCollecting py4j==0.10.9.2\n",
            "  Downloading py4j-0.10.9.2-py2.py3-none-any.whl (198 kB)\n",
            "\u001b[K     |████████████████████████████████| 198 kB 54.5 MB/s \n",
            "\u001b[?25hBuilding wheels for collected packages: pyspark\n",
            "  Building wheel for pyspark (setup.py) ... \u001b[?25l\u001b[?25hdone\n",
            "  Created wheel for pyspark: filename=pyspark-3.2.0-py2.py3-none-any.whl size=281805912 sha256=c4d46dcf8e88c987114d64215274aa506eff63f90271e650ea4c95cd92af85b3\n",
            "  Stored in directory: /root/.cache/pip/wheels/0b/de/d2/9be5d59d7331c6c2a7c1b6d1a4f463ce107332b1ecd4e80718\n",
            "Successfully built pyspark\n",
            "Installing collected packages: py4j, pyspark\n",
            "Successfully installed py4j-0.10.9.2 pyspark-3.2.0\n"
          ]
        }
      ]
    },
    {
      "cell_type": "code",
      "source": [
        "from riotwatcher import LolWatcher\n",
        "import pyspark\n",
        "api_key='RGAPI-3a40a643-54e7-4635-84ca-ba4d7377ca59'\n",
        "watcher = LolWatcher(api_key)\n",
        "region = 'EUN1'\n"
      ],
      "metadata": {
        "id": "5wRGrU_qMed7"
      },
      "execution_count": null,
      "outputs": []
    },
    {
      "cell_type": "code",
      "source": [
        "from google.colab import drive\n",
        "drive.mount('/content/drive')"
      ],
      "metadata": {
        "colab": {
          "base_uri": "https://localhost:8080/"
        },
        "id": "PDdMv_YzhOEy",
        "outputId": "97132904-a48d-41dc-adb5-9cd80c15b293"
      },
      "execution_count": 1,
      "outputs": [
        {
          "output_type": "stream",
          "name": "stdout",
          "text": [
            "Mounted at /content/drive\n"
          ]
        }
      ]
    },
    {
      "cell_type": "markdown",
      "source": [
        "# Initilize Spark Session"
      ],
      "metadata": {
        "id": "GcuhW1aG2qUT"
      }
    },
    {
      "cell_type": "code",
      "source": [
        "import pyspark\n",
        "from pyspark.sql import SparkSession\n",
        "spark = SparkSession.builder.appName(\"lol\").getOrCreate()\n",
        "sc = spark.sparkContext\n",
        "#matches_data = spark.read.json(\"drive/MyDrive/one_big\", multiLine=False)"
      ],
      "metadata": {
        "id": "db4WGUArhY3J"
      },
      "execution_count": 5,
      "outputs": []
    },
    {
      "cell_type": "markdown",
      "source": [
        "# Read data from Google Drive"
      ],
      "metadata": {
        "id": "2KSi2Gdo2i0a"
      }
    },
    {
      "cell_type": "code",
      "source": [
        "matches_data = spark.read.json(\"drive/MyDrive/one_big\", multiLine=False)"
      ],
      "metadata": {
        "id": "dcDmb5UNy9uj"
      },
      "execution_count": 6,
      "outputs": []
    },
    {
      "cell_type": "code",
      "source": [
        "matchs_num=matches_data.count()\n",
        "matchs_num"
      ],
      "metadata": {
        "colab": {
          "base_uri": "https://localhost:8080/"
        },
        "id": "bI2mRRzzlKu3",
        "outputId": "966c546b-4243-4a4d-f3f5-318ff7755d38"
      },
      "execution_count": 7,
      "outputs": [
        {
          "output_type": "execute_result",
          "data": {
            "text/plain": [
              "2480"
            ]
          },
          "metadata": {},
          "execution_count": 7
        }
      ]
    },
    {
      "cell_type": "markdown",
      "source": [
        "# Win-Pick-Ban Computation - wpb Matrix"
      ],
      "metadata": {
        "id": "mH3CyYF41_Cq"
      }
    },
    {
      "cell_type": "code",
      "source": [
        "def Extract_participant_data_from_matches(file_contain_matches):\n",
        "        participants = file_contain_matches[\"info\"][\"participants\"]\n",
        "        participants_information = [{\"assists\":each_participant[\"assists\"],\n",
        "                                     \"teamId\":each_participant[\"teamId\"],\n",
        "                                     \"championId\":each_participant[\"championId\"],\n",
        "                                     \"championName\":each_participant[\"championName\"],\n",
        "                                     \"summonerName\":each_participant[\"summonerName\"],\n",
        "                                     \"win\":each_participant[\"teamId\"],\n",
        "                                     \"kills\":each_participant[\"kills\"],\n",
        "                                     \"deaths\":each_participant[\"deaths\"],\n",
        "                                     \"doubleKills\":each_participant[\"doubleKills\"],\n",
        "                                     \"tripleKills\":each_participant[\"tripleKills\"],\n",
        "                                     \"quadraKills\":each_participant[\"quadraKills\"],\n",
        "                                     \"pentaKills\":each_participant[\"pentaKills\"],\n",
        "                                     \"unrealKills\":each_participant[\"unrealKills\"],\n",
        "                                     \"largestMultiKill\":each_participant[\"largestMultiKill\"],\n",
        "                                     \"largestKillingSpree\":each_participant[\"largestKillingSpree\"],\n",
        "                                     \"largestCriticalStrike\":each_participant[\"largestCriticalStrike\"],\n",
        "                                     \"longestTimeSpentLiving\":each_participant[\"longestTimeSpentLiving\"],\n",
        "                                     \"totalDamageDealt\":each_participant[\"totalDamageDealt\"],\n",
        "                                     \"magicDamageDealt\":each_participant[\"magicDamageDealt\"],\n",
        "                                     \"physicalDamageDealt\":each_participant[\"physicalDamageDealt\"],\n",
        "                                     \"trueDamageDealt\":each_participant[\"trueDamageDealt\"],\n",
        "                                     \"totalDamageDealtToChampions\":each_participant[\"totalDamageDealtToChampions\"],\n",
        "                                     \"magicDamageDealtToChampions\":each_participant[\"magicDamageDealtToChampions\"],\n",
        "                                     \"physicalDamageDealtToChampions\":each_participant[\"physicalDamageDealtToChampions\"],\n",
        "                                     \"trueDamageDealtToChampions\" :each_participant[\"trueDamageDealtToChampions\"],\n",
        "                                     \"totalHeal\" :each_participant[\"totalHeal\"],\n",
        "                                     \"totalUnitsHealed\" :each_participant[\"totalUnitsHealed\"],\n",
        "                                     \"damageSelfMitigated\" :each_participant[\"damageSelfMitigated\"],\n",
        "                                     \"damageDealtToObjectives\" :each_participant[\"damageDealtToObjectives\"],\n",
        "                                     \"damageDealtToTurrets\" :each_participant[\"damageDealtToTurrets\"],\n",
        "                                     \"visionScore\" :each_participant[\"visionScore\"],\n",
        "                                     \"timeCCingOthers\" :each_participant[\"timeCCingOthers\"],\n",
        "                                     \"totalDamageTaken\" :each_participant[\"totalDamageTaken\"],\n",
        "                                     \"magicDamageTaken\" :each_participant[\"magicDamageTaken\"],\n",
        "                                     \"physicalDamageTaken\" :each_participant[\"physicalDamageTaken\"],\n",
        "                                     \"trueDamageTaken\" :each_participant[\"trueDamageTaken\"],\n",
        "                                     \"goldEarned\" :each_participant[\"goldEarned\"],\n",
        "                                     \"goldSpent\" :each_participant[\"goldSpent\"],\n",
        "                                     \"turretKills\" :each_participant[\"turretKills\"],\n",
        "                                     \"inhibitorKills\" :each_participant[\"inhibitorKills\"],\n",
        "                                     \"totalMinionsKilled\" :each_participant[\"totalMinionsKilled\"],\n",
        "                                     \"neutralMinionsKilled\" :each_participant[\"neutralMinionsKilled\"],\n",
        "                                     \"totalTimeCCDealt\" :each_participant[\"totalTimeCCDealt\"]} for each_participant in participants]\n",
        "        return participants_information\n",
        "\n",
        "def wpb_matrix(match):\n",
        "  champions_rates = []\n",
        "  for part in match[\"info\"][\"participants\"]:\n",
        "    if(part[\"teamId\"] == 100): team_number = 0\n",
        "    else: team_number = 1\n",
        "    if match[\"info\"][\"teams\"][team_number][\"win\"]:\n",
        "      stat=\"Won\"\n",
        "    else:\n",
        "      stat=\"Lose\"\n",
        "    champions_rates.append((part[\"championId\"], stat))\n",
        "  \n",
        "  for team in match[\"info\"][\"teams\"]:\n",
        "    for ban in team[\"bans\"]:\n",
        "      if(ban[\"championId\"] != None):\n",
        "        champions_rates.append((ban[\"championId\"],\"Banned\"))\n",
        "\n",
        "  return champions_rates\n",
        "\n",
        "def calculate_rates(static,no_matches):\n",
        "  banned = static.count(\"Banned\")\n",
        "  won = static.count(\"Won\")\n",
        "  lose = static.count(\"Lose\")\n",
        "  total_played_games = won+lose\n",
        "  if(total_played_games):\n",
        "    return [banned/no_matches, total_played_games/no_matches, won/total_played_games, lose/total_played_games]\n",
        "  else:\n",
        "    return [banned/no_matches, \"not_complete\", \"not_complete\"]\n",
        "  \n",
        "def show(name,val,x_name,y_name,tit):\n",
        "    fig = plt.figure(figsize = (10, 5))\n",
        "    \n",
        "    # creating the bar plot\n",
        "    plt.bar(name, val, color ='maroon',\n",
        "            width = 0.4)\n",
        "    \n",
        "    plt.xlabel(x_name)\n",
        "    plt.ylabel(y_name)\n",
        "    plt.title(tit)\n",
        "    plt.show()"
      ],
      "metadata": {
        "id": "8andwKvb-8mr"
      },
      "execution_count": 11,
      "outputs": []
    },
    {
      "cell_type": "code",
      "source": [
        "wpb_champion = matches_data.rdd.flatMap(wpb_matrix)\n",
        "by_champion = wpb_champion.groupByKey().mapValues(list)\n",
        "wpb_rates = by_champion.map(lambda x:(x[0], calculate_rates(x[1],matchs_num))).filter(lambda x: x[1][2] is not 'not_complete')\n",
        "champion_rates = wpb_rates.collect()\n",
        "'''\n",
        "in champion_rates \n",
        "\n",
        "(Champion id , [ban rate , pick rate , win rate ,lose rate])\n",
        "'''\n",
        "\n",
        "def get_champions_name(_id):\n",
        "    \"\"\"\n",
        "    this functions takes an _id and returns the associate champions name\n",
        "    :param _id: any integer from 1 to 555. if there is a champion, it will return the name.\n",
        "    :return: champions name\n",
        "    \"\"\"\n",
        "    all_champion_id = {\n",
        "        1: 'Annie',\n",
        "        2: 'Olaf',\n",
        "        3: 'Galio',\n",
        "        4: 'Twisted Fate',\n",
        "        5: 'Xin Zhao',\n",
        "        6: 'Urgot',\n",
        "        7: 'LeBlanc',\n",
        "        8: 'Vladimir',\n",
        "        9: 'Fiddlesticks',\n",
        "        10: 'Kayle',\n",
        "        11: 'Master Yi',\n",
        "        12: 'Alistar',\n",
        "        13: 'Ryze',\n",
        "        14: 'Sion',\n",
        "        15: 'Sivir',\n",
        "        16: 'Soraka',\n",
        "        17: 'Teemo',\n",
        "        18: 'Tristana',\n",
        "        19: 'Warwick',\n",
        "        20: 'Nunu & Willump',\n",
        "        21: 'Miss Fortune',\n",
        "        22: 'Ashe',\n",
        "        23: 'Tryndamere',\n",
        "        24: 'Jax',\n",
        "        25: 'Morgana',\n",
        "        26: 'Zilean',\n",
        "        27: 'Singed',\n",
        "        28: 'Evelynn',\n",
        "        29: 'Twitch',\n",
        "        30: 'Karthus',\n",
        "        31: \"Cho'Gath\",\n",
        "        32: 'Amumu',\n",
        "        33: 'Rammus',\n",
        "        34: 'Anivia',\n",
        "        35: 'Shaco',\n",
        "        36: 'Dr.Mundo',\n",
        "        37: 'Sona',\n",
        "        38: 'Kassadin',\n",
        "        39: 'Irelia',\n",
        "        40: 'Janna',\n",
        "        41: 'Gangplank',\n",
        "        42: 'Corki',\n",
        "        43: 'Karma',\n",
        "        44: 'Taric',\n",
        "        45: 'Veigar',\n",
        "        48: 'Trundle',\n",
        "        50: 'Swain',\n",
        "        51: 'Caitlyn',\n",
        "        53: 'Blitzcrank',\n",
        "        54: 'Malphite',\n",
        "        55: 'Katarina',\n",
        "        56: 'Nocturne',\n",
        "        57: 'Maokai',\n",
        "        58: 'Renekton',\n",
        "        59: 'JarvanIV',\n",
        "        60: 'Elise',\n",
        "        61: 'Orianna',\n",
        "        62: 'Wukong',\n",
        "        63: 'Brand',\n",
        "        64: 'LeeSin',\n",
        "        67: 'Vayne',\n",
        "        68: 'Rumble',\n",
        "        69: 'Cassiopeia',\n",
        "        72: 'Skarner',\n",
        "        74: 'Heimerdinger',\n",
        "        75: 'Nasus',\n",
        "        76: 'Nidalee',\n",
        "        77: 'Udyr',\n",
        "        78: 'Poppy',\n",
        "        79: 'Gragas',\n",
        "        80: 'Pantheon',\n",
        "        81: 'Ezreal',\n",
        "        82: 'Mordekaiser',\n",
        "        83: 'Yorick',\n",
        "        84: 'Akali',\n",
        "        85: 'Kennen',\n",
        "        86: 'Garen',\n",
        "        89: 'Leona',\n",
        "        90: 'Malzahar',\n",
        "        91: 'Talon',\n",
        "        92: 'Riven',\n",
        "        96: \"Kog'Maw\",\n",
        "        98: 'Shen',\n",
        "        99: 'Lux',\n",
        "        101: 'Xerath',\n",
        "        102: 'Shyvana',\n",
        "        103: 'Ahri',\n",
        "        104: 'Graves',\n",
        "        105: 'Fizz',\n",
        "        106: 'Volibear',\n",
        "        107: 'Rengar',\n",
        "        110: 'Varus',\n",
        "        111: 'Nautilus',\n",
        "        112: 'Viktor',\n",
        "        113: 'Sejuani',\n",
        "        114: 'Fiora',\n",
        "        115: 'Ziggs',\n",
        "        117: 'Lulu',\n",
        "        119: 'Draven',\n",
        "        120: 'Hecarim',\n",
        "        121: \"Kha'Zix\",\n",
        "        122: 'Darius',\n",
        "        126: 'Jayce',\n",
        "        127: 'Lissandra',\n",
        "        131: 'Diana',\n",
        "        133: 'Quinn',\n",
        "        134: 'Syndra',\n",
        "        136: 'AurelionSol',\n",
        "        141: 'Kayn',\n",
        "        142: 'Zoe',\n",
        "        143: 'Zyra',\n",
        "        145: \"Kai'sa\",\n",
        "        147: \"Seraphine\",\n",
        "        150: 'Gnar',\n",
        "        154: 'Zac',\n",
        "        157: 'Yasuo',\n",
        "        161: \"Vel'Koz\",\n",
        "        163: 'Taliyah',\n",
        "        166: \"Akshan\",\n",
        "        164: 'Camille',\n",
        "        201: 'Braum',\n",
        "        202: 'Jhin',\n",
        "        203: 'Kindred',\n",
        "        222: 'Jinx',\n",
        "        223: 'TahmKench',\n",
        "        234: 'Viego',\n",
        "        235: 'Senna',\n",
        "        236: 'Lucian',\n",
        "        238: 'Zed',\n",
        "        240: 'Kled',\n",
        "        245: 'Ekko',\n",
        "        246: 'Qiyana',\n",
        "        254: 'Vi',\n",
        "        266: 'Aatrox',\n",
        "        267: 'Nami',\n",
        "        268: 'Azir',\n",
        "        350: 'Yuumi',\n",
        "        360: 'Samira',\n",
        "        412: 'Thresh',\n",
        "        420: 'Illaoi',\n",
        "        421: \"Rek'Sai\",\n",
        "        427: 'Ivern',\n",
        "        429: 'Kalista',\n",
        "        432: 'Bard',\n",
        "        497: 'Rakan',\n",
        "        498: 'Xayah',\n",
        "        516: 'Ornn',\n",
        "        517: 'Sylas',\n",
        "        526: 'Rell',\n",
        "        518: 'Neeko',\n",
        "        523: 'Aphelios',\n",
        "        555: 'Pyke',\n",
        "        875: \"Sett\",\n",
        "        711: \"Vex\",\n",
        "        777: \"Yone\",\n",
        "        887: \"Gwen\",\n",
        "        876: \"Lillia\",\n",
        "\n",
        "\n",
        "\n",
        "    }\n",
        "    if _id in all_champion_id:\n",
        "        return all_champion_id.get(_id)\n",
        "    else: return all_champion_id\n"
      ],
      "metadata": {
        "id": "vunlpnGNhwSK"
      },
      "execution_count": 346,
      "outputs": []
    },
    {
      "cell_type": "code",
      "source": [
        "import pandas as pd\n",
        "import matplotlib.pyplot as plt\n",
        "top_five_banned_champions = sorted(champion_rates, key = lambda x: x[1][0], reverse = True)[:5] \n",
        "top_five_picked_champions = sorted(champion_rates, key = lambda x: x[1][1], reverse = True)[:5] \n",
        "top_five_winning_champions = sorted(champion_rates, key = lambda x: x[1][2], reverse = True)[5:10] \n",
        "top_five_losing_champions = sorted(champion_rates, key = lambda x: x[1][3], reverse = True)[5:10] \n",
        "def get_name_rate(rate):\n",
        "    banned_names = [get_champions_name(rate[0][0]), get_champions_name(rate[1][0]),get_champions_name(rate[2][0]),get_champions_name(rate[3][0]),get_champions_name(rate[4][0])]\n",
        "    banned_values = [rate[0][1][0],rate[1][1][0],rate[2][1][0]\n",
        "                    ,rate[3][1][0],rate[4][1][0]]\n",
        "    return banned_names , banned_values\n"
      ],
      "metadata": {
        "id": "A5qrl3346kb3"
      },
      "execution_count": null,
      "outputs": []
    },
    {
      "cell_type": "code",
      "source": [
        "ban_name,ban_val=get_name_rate(top_five_banned_champions)\n",
        "show(ban_name,ban_val,\"Champion Name\",\"Banning rate\", \"Ban Rate for top 5 champions\")"
      ],
      "metadata": {
        "colab": {
          "base_uri": "https://localhost:8080/",
          "height": 350
        },
        "id": "7s818BxSLQvM",
        "outputId": "4a008a78-300e-4e6c-d3c3-cfa14e522973"
      },
      "execution_count": null,
      "outputs": [
        {
          "output_type": "display_data",
          "data": {
            "image/png": "[encoded data removed]",
            "text/plain": [
              "<Figure size 720x360 with 1 Axes>"
            ]
          },
          "metadata": {
            "needs_background": "light"
          }
        }
      ]
    },
    {
      "cell_type": "code",
      "source": [
        "pick_name,pick_val=get_name_rate(top_five_picked_champions)\n",
        "show(pick_name,pick_val,\"Champion Name\",\"picking rate\", \"Pick Rate for top 5 champions\")"
      ],
      "metadata": {
        "colab": {
          "base_uri": "https://localhost:8080/",
          "height": 350
        },
        "id": "8sIhd3CwI9I4",
        "outputId": "8ba8f651-4651-4a46-ad06-2ed9eda2fcc7"
      },
      "execution_count": null,
      "outputs": [
        {
          "output_type": "display_data",
          "data": {
            "image/png": "[encoded data removed]",
            "text/plain": [
              "<Figure size 720x360 with 1 Axes>"
            ]
          },
          "metadata": {
            "needs_background": "light"
          }
        }
      ]
    },
    {
      "cell_type": "code",
      "source": [
        "def scale(lis,num):\n",
        "   return [i * num for i in lis]\n",
        "\n",
        "win_name,win_val=get_name_rate(top_five_winning_champions)\n",
        "show(win_name,win_val,\"Champion Name\",\"winning rate\", \"Win Rate for top 5 champions\")"
      ],
      "metadata": {
        "colab": {
          "base_uri": "https://localhost:8080/",
          "height": 350
        },
        "id": "jjCXSxw9M-D6",
        "outputId": "f083893f-8e54-4bcb-c4a7-ec5d3c6344fc"
      },
      "execution_count": null,
      "outputs": [
        {
          "output_type": "display_data",
          "data": {
            "image/png": "[encoded data removed]",
            "text/plain": [
              "<Figure size 720x360 with 1 Axes>"
            ]
          },
          "metadata": {
            "needs_background": "light"
          }
        }
      ]
    },
    {
      "cell_type": "code",
      "source": [
        "lose_name,lose_val=get_name_rate(top_five_losing_champions)\n",
        "show(lose_name,lose_val,\"Champion Name\",\"losing rate\", \"Lose Rate for top 5 champions\")"
      ],
      "metadata": {
        "colab": {
          "base_uri": "https://localhost:8080/",
          "height": 350
        },
        "id": "I2nt5RMqT9Q3",
        "outputId": "c75bc904-7775-4793-812f-711d36fed851"
      },
      "execution_count": null,
      "outputs": [
        {
          "output_type": "display_data",
          "data": {
            "image/png": "[encoded data removed]",
            "text/plain": [
              "<Figure size 720x360 with 1 Axes>"
            ]
          },
          "metadata": {
            "needs_background": "light"
          }
        }
      ]
    },
    {
      "cell_type": "markdown",
      "source": [
        "# Item Win,Pick Rates Computation "
      ],
      "metadata": {
        "id": "ASbcQHwI2YDj"
      }
    },
    {
      "cell_type": "code",
      "source": [
        "import json\n",
        "#!cp items.json /content/drive/MyDrive\n",
        "items_id={}\n",
        "with open('/content/drive/MyDrive/items.json', 'r') as data_file:\n",
        "    json_data = data_file.read()\n",
        "\n",
        "data = json.loads(json_data)\n",
        "\n",
        "for it in data:\n",
        "  i={it['id']:it['name']}\n",
        "  items_id.update(i)"
      ],
      "metadata": {
        "id": "fUV1ayDGCOrl"
      },
      "execution_count": 8,
      "outputs": []
    },
    {
      "cell_type": "code",
      "source": [
        "import matplotlib.pyplot as plt\n",
        "\n",
        "def item(match):\n",
        "  '''\n",
        "  (items(0-6),winorlose)\n",
        "  '''\n",
        "  item_win=[]\n",
        "  for part in match[\"info\"][\"participants\"]:\n",
        "    for item_num in range(7):\n",
        "      item_win.append((part[\"item\"+str(item_num)],part[\"win\"]))\n",
        "  return item_win\n",
        "\n",
        "def calculate_item_rates(static,matchs_num):\n",
        "  win_count = static.count(True)\n",
        "  lose_count = static.count(False)\n",
        "  total_played_games = win_count+lose_count\n",
        "  return [win_count/total_played_games, len(static)/matchs_num]\n",
        "\n",
        "def get_name_value_win_rate(rate):\n",
        "    banned_names = [items_id.get(str(rate[0][0])), items_id.get(str(rate[1][0])),items_id.get(str(rate[2][0])),items_id.get(str(rate[3][0])),items_id.get(str(rate[4][0]))]\n",
        "    banned_values = [rate[0][1][0],rate[1][1][0],rate[2][1][0]\n",
        "                    ,rate[3][1][0],rate[4][1][0]]\n",
        "    return banned_names , banned_values\n",
        "\n",
        "def scale(lis,num):\n",
        "   return [i * num for i in lis]\n",
        "\n",
        "items = matches_data.rdd.flatMap(item).groupByKey().mapValues(list)\n",
        "item_rates = items.map(lambda x:(x[0], calculate_item_rates(x[1],matchs_num))).filter(lambda x: x[0] is not None)\n",
        "item_rates_list =  item_rates.collect()\n",
        "top_five_picked_items=sorted(item_rates_list, key = lambda x: x[1][1], reverse = True)[1:6]\n",
        "names,values=get_name_value_win_rate(top_five_picked_items)\n",
        "show(names,scale(values,100),\"Item Name\",\"Picking rate %\",\"Item-Pick Rate\")\n"
      ],
      "metadata": {
        "colab": {
          "base_uri": "https://localhost:8080/",
          "height": 350
        },
        "id": "WgzozK4A2tiw",
        "outputId": "4b7f470b-5df5-41ca-9ee2-adc35f252950"
      },
      "execution_count": 49,
      "outputs": [
        {
          "output_type": "display_data",
          "data": {
            "image/png": "[encoded data removed]",
            "text/plain": [
              "<Figure size 720x360 with 1 Axes>"
            ]
          },
          "metadata": {
            "needs_background": "light"
          }
        }
      ]
    },
    {
      "cell_type": "code",
      "source": [
        "top_five_winning_items= sorted(item_rates_list, key = lambda x: x[1][0], reverse = True)\n",
        "indices=[7,8,14,19,20]\n",
        "top_five_winning_items = [top_five_winning_items[index] for index in indices]\n",
        "names,values=get_name_value_win_rate(top_five_winning_items)\n",
        "show(names,scale(values,100),\"Item Name\",\"Wining rate %\",\"Item-Win Rate\")"
      ],
      "metadata": {
        "colab": {
          "base_uri": "https://localhost:8080/",
          "height": 350
        },
        "id": "3eDa7TLxUslB",
        "outputId": "8928d965-ff36-4fc0-d979-704803f9611d"
      },
      "execution_count": 50,
      "outputs": [
        {
          "output_type": "display_data",
          "data": {
            "image/png": "[encoded data removed]",
            "text/plain": [
              "<Figure size 720x360 with 1 Axes>"
            ]
          },
          "metadata": {
            "needs_background": "light"
          }
        }
      ]
    },
    {
      "cell_type": "markdown",
      "source": [
        "# Synergies Computation"
      ],
      "metadata": {
        "id": "dHrKTDEI2QRf"
      }
    },
    {
      "cell_type": "code",
      "source": [
        "import itertools\n",
        "from operator import add\n",
        "def champion_duos(row):\n",
        "  duos = []\n",
        "  team1 = []\n",
        "  team2 = []\n",
        "  is_team1_win = False\n",
        "  is_team2_win = False\n",
        "  for p in row['info'][\"participants\"]:\n",
        "    if(p[\"teamId\"] == 100): \n",
        "      team_number = 0\n",
        "    else: \n",
        "      team_number = 1\n",
        "    if(team_number == 0):\n",
        "      team1.append(p[\"championId\"])\n",
        "      is_team1_win = p[\"win\"]\n",
        "    else:\n",
        "      team2.append(p[\"championId\"])\n",
        "      is_team2_win = p[\"win\"]\n",
        "  team1 = sorted(team1)\n",
        "  team2 = sorted(team2)\n",
        "  for c in list(itertools.combinations(team1, 2)):\n",
        "    if is_team1_win:\n",
        "      duos.append((c, 1))\n",
        "    else:\n",
        "      duos.append((c, 0))\n",
        "\n",
        "  for c in list(itertools.combinations(team2, 2)):\n",
        "    if is_team2_win:\n",
        "      duos.append((c, 1))\n",
        "    else:\n",
        "      duos.append((c, 0))  \n",
        "  return duos[0:5]\n",
        "#champion_duos(matches_data.first())\n",
        "duos_score = matches_data.rdd.flatMap(champion_duos).reduceByKey(add)\n",
        "duos_score_list = duos_score.collect()\n",
        "top_five_duos = sorted(duos_score_list, key = lambda x: x[1], reverse = True)[5:10]"
      ],
      "metadata": {
        "id": "MlgOzbd221BI"
      },
      "execution_count": 332,
      "outputs": []
    },
    {
      "cell_type": "code",
      "source": [
        "item,c=zip(*top_five_duos)"
      ],
      "metadata": {
        "id": "ExnlbQPRuJ9c"
      },
      "execution_count": 334,
      "outputs": []
    },
    {
      "cell_type": "code",
      "source": [
        "def synergy_by_champion():\n",
        "  item, c = zip(*top_five_duos)\n",
        "  names=[]\n",
        "  values=[]\n",
        "  for i in item:\n",
        "    names.append(get_champions_name(i[0])+'_'+get_champions_name(i[1]))\n",
        "  for i in c:\n",
        "    values.append(i)\n",
        "  show(names,values,'Duo Champions Names','Synergy weights ','Synergy For  Champions Duo')"
      ],
      "metadata": {
        "id": "YROl1o9Lo7LB"
      },
      "execution_count": 352,
      "outputs": []
    },
    {
      "cell_type": "code",
      "source": [
        "synergy_by_champion()"
      ],
      "metadata": {
        "colab": {
          "base_uri": "https://localhost:8080/",
          "height": 351
        },
        "id": "Y_jhgFTasOZT",
        "outputId": "5d6be5b5-3dc0-43d0-f17a-ff007ec6b344"
      },
      "execution_count": 353,
      "outputs": [
        {
          "output_type": "display_data",
          "data": {
            "image/png": "[encoded data removed]",
            "text/plain": [
              "<Figure size 720x360 with 1 Axes>"
            ]
          },
          "metadata": {
            "needs_background": "light"
          }
        }
      ]
    },
    {
      "cell_type": "markdown",
      "source": [
        "# Item Synergies With Champions\n"
      ],
      "metadata": {
        "id": "bZ5xIDUg22Io"
      }
    },
    {
      "cell_type": "code",
      "source": [
        "with open('/content/drive/MyDrive/champion_class.json') as f:\n",
        "  data=json.load(f)\n",
        "tags_id={}\n",
        "\n",
        "for it in data:\n",
        "  i={it['championId']:it['tags']}\n",
        "  tags_id.update(i)\n",
        "\n",
        "\n",
        "def item_syn(match):\n",
        "  item_win=[]\n",
        "  for part in match[\"info\"][\"participants\"]:\n",
        "    for item_num in range(7):\n",
        "      item_win.append((part[\"item\"+str(item_num)],(part[\"win\"],part[\"championId\"],tags_id.get(part[\"championName\"]))))\n",
        "  return item_win\n",
        "\n",
        "def get_key_item(val):\n",
        "    for key, value in items_id.items():\n",
        "         if val == value:\n",
        "             return key\n",
        "\n",
        "def champion_item_synergies(static):\n",
        "  champion_item_syn_rate= {} # championId : item syngery rate\n",
        "  win_total=static[1][0].count(True)\n",
        "  lose_total=static[1][0].count(False)\n",
        "  total_games=win_total+lose_total\n",
        "  for stats in static[1]:\n",
        "    championId=stats[1]\n",
        "    ishewon=stats[0]\n",
        "    if(championId in champion_item_syn_rate): #if this champion played a match already +0.5\n",
        "      champion_item_syn_rate[championId] += 0.5\n",
        "    else:\n",
        "      champion_item_syn_rate[championId] = 0.5   # if this is the first match for this player 0.5\n",
        "    if(ishewon == True):\n",
        "            champion_item_syn_rate[championId] += 1   # if ths player won the match 1\n",
        "\n",
        "  item_synergies = []\n",
        "  for championId, item_syn_rate in sorted(champion_item_syn_rate.items(), key=lambda x:x[1], reverse=True):\n",
        "    item_synergies.append((championId, (item_syn_rate/total_games)))\n",
        "  return  item_synergies[0:5]\n",
        "items_champion = matches_data.rdd.flatMap(item_syn).groupByKey().mapValues(list)\n",
        "item_champion_synergy = items_champion.map(lambda x:(x[0] ,champion_item_synergies(x))).filter(lambda x: x[0] is not None)\n",
        "item_champion_list = item_champion_synergy.collect()"
      ],
      "metadata": {
        "id": "0GRa_YRGyp4W"
      },
      "execution_count": 141,
      "outputs": []
    },
    {
      "cell_type": "code",
      "source": [
        "item, c = zip(*item_champion_list)\n",
        "def synergy_by_item(search_item='Shard of True Ice'):\n",
        "  item, c = zip(*item_champion_list)\n",
        "  key=get_key_item(search_item)\n",
        "  indx=item.index(int(key))\n",
        "  rate=c[indx]\n",
        "  names=[]\n",
        "  values=[]\n",
        "  for i in rate:\n",
        "    names.append(get_champions_name(i[0]))\n",
        "    values.append(i[1])\n",
        "  show(names,values,'Champion Name','Synergy weights over total games ','Synergy For '+search_item+' Item With Champions')\n"
      ],
      "metadata": {
        "id": "QkRw2z38wjCx"
      },
      "execution_count": 144,
      "outputs": []
    },
    {
      "cell_type": "code",
      "source": [
        "synergy_by_item('Farsight Alteration')"
      ],
      "metadata": {
        "colab": {
          "base_uri": "https://localhost:8080/",
          "height": 350
        },
        "id": "LL3h31l6y1K9",
        "outputId": "79f7fc13-5700-462b-b7dc-31481d47250d"
      },
      "execution_count": 145,
      "outputs": [
        {
          "output_type": "display_data",
          "data": {
            "image/png": "[encoded data removed]",
            "text/plain": [
              "<Figure size 720x360 with 1 Axes>"
            ]
          },
          "metadata": {
            "needs_background": "light"
          }
        }
      ]
    },
    {
      "cell_type": "markdown",
      "source": [
        "# Item  Synergies With Classes"
      ],
      "metadata": {
        "id": "4F1A8w5U6tTS"
      }
    },
    {
      "cell_type": "code",
      "source": [
        "def item_class_synergies(static):\n",
        "  champion_item_syn_rate= {} # championId : item syngery rate\n",
        "  win_total=static[1][0].count(True)\n",
        "  lose_total=static[1][0].count(False)\n",
        "  total_games=win_total+lose_total\n",
        "  for stats in static[1]:\n",
        "    if stats[2] != None:\n",
        "      championId=stats[1]\n",
        "      ishewon=stats[0]\n",
        "      tags=stats[2]\n",
        "      for class_item in tags:\n",
        "        if(class_item in champion_item_syn_rate): #if this champion played a match already +0.5\n",
        "          champion_item_syn_rate[class_item] += 0.5\n",
        "        else:\n",
        "          champion_item_syn_rate[class_item] = 0.5   # if this is the first match for this player 0.5\n",
        "        if(ishewon == True):\n",
        "                champion_item_syn_rate[class_item] += 1   # if ths player won the match 1\n",
        "    else:\n",
        "      pass\n",
        "\n",
        "  item_synergies = []\n",
        "  for class_it, item_syn_rate in sorted(champion_item_syn_rate.items(), key=lambda x:x[1], reverse=True):\n",
        "    item_synergies.append((class_it, (item_syn_rate/total_games)))\n",
        "  return   item_synergies[:5]\n",
        "\n",
        "items_class = matches_data.rdd.flatMap(item_syn).groupByKey().mapValues(list)\n",
        "item_class_synergy = items_class.map(lambda x:(x[0] ,item_class_synergies(x))).filter(lambda x: x[0] is not None)\n",
        "item_class_list=item_class_synergy.collect()"
      ],
      "metadata": {
        "id": "sPZYjzga65B0"
      },
      "execution_count": 210,
      "outputs": []
    },
    {
      "cell_type": "code",
      "source": [
        "def get_key_tag(tag):\n",
        "    for key, val in items_id.items():\n",
        "         if val == tag:\n",
        "             return key\n",
        "def synergy_by_item_class(search_item=''):\n",
        "  item, c = zip(*item_class_list)\n",
        "  key=get_key_tag(search_item)\n",
        "  indx=item.index(int(key))\n",
        "  rate=c[indx]\n",
        "  names=[]\n",
        "  values=[]\n",
        "  for i in rate:\n",
        "    names.append((i[0]))\n",
        "    values.append(i[1])\n",
        "  show(names,values,'Tags name','Synergy weights over total games ','Synergy For '+search_item+' Item With Classes')"
      ],
      "metadata": {
        "id": "KUzeLyc3CB7E"
      },
      "execution_count": 211,
      "outputs": []
    },
    {
      "cell_type": "code",
      "source": [
        "synergy_by_item_class('Farsight Alteration')\n"
      ],
      "metadata": {
        "colab": {
          "base_uri": "https://localhost:8080/",
          "height": 350
        },
        "id": "9V4nmQRgC6DS",
        "outputId": "4681db8f-1d5f-4e51-b07d-e319c2ff087d"
      },
      "execution_count": 212,
      "outputs": [
        {
          "output_type": "display_data",
          "data": {
            "image/png": "[encoded data removed]",
            "text/plain": [
              "<Figure size 720x360 with 1 Axes>"
            ]
          },
          "metadata": {
            "needs_background": "light"
          }
        }
      ]
    },
    {
      "cell_type": "markdown",
      "source": [
        "# Item Suggestion"
      ],
      "metadata": {
        "id": "UYeXYpGY3FxV"
      }
    },
    {
      "cell_type": "code",
      "source": [
        "with open('/content/items_info') as f:\n",
        "  data_dragon=json.load(f)\n"
      ],
      "metadata": {
        "id": "yxgIlZbOUl0p"
      },
      "execution_count": 221,
      "outputs": []
    },
    {
      "cell_type": "code",
      "source": [
        "def item_sugg(match):\n",
        "  '''\n",
        "  (items(0-6),winorlose)\n",
        "  '''\n",
        "  item_win=[]\n",
        "  for part in match[\"info\"][\"participants\"]:\n",
        "    for item_num in range(7):\n",
        "      try :\n",
        "        id=str(part[\"item\"+str(item_num)])\n",
        "        if  (data_dragon['data'][id]['gold']['total'] >= 1000):\n",
        "          item_win.append((part['championId'],(data_dragon['data'][id]['name'],part[\"win\"])))\n",
        "      except:\n",
        "        pass\n",
        "  return item_win\n",
        "\n",
        "def champion_item_suggest(row):\n",
        "  item_dict= {}\n",
        "  for val in row[1]:\n",
        "    if(val[0] in item_dict):\n",
        "      item_dict[val[0]] += 0.5\n",
        "    else:\n",
        "      item_dict[val[0]] = 0.5\n",
        "    \n",
        "    if(val[0] == True):\n",
        "            item_dict [val[0]] += 1\n",
        "\n",
        "  c = []\n",
        "  for k, r in sorted(item_dict.items(), key=lambda x:x[1], reverse=True):\n",
        "    c.append((k, r))\n",
        "\n",
        "  \n",
        "  return (row[0], (c[:5]))"
      ],
      "metadata": {
        "id": "qd4pr6-P3IH3"
      },
      "execution_count": 293,
      "outputs": []
    },
    {
      "cell_type": "code",
      "source": [
        "c_item = matches_data.rdd.flatMap(item_sugg).groupByKey().mapValues(list)\n",
        "champion_item_suggestion = c_item.map(lambda x: champion_item_suggest(x))\n",
        "c_item_list =  champion_item_suggestion.collect()"
      ],
      "metadata": {
        "id": "TdDDjT9GaEke"
      },
      "execution_count": 294,
      "outputs": []
    },
    {
      "cell_type": "code",
      "source": [
        "def get_id_by_name(name):\n",
        "  ch=get_champions_name(0)\n",
        "  for key,val in ch.items():\n",
        "    if val==name:\n",
        "      return key\n",
        "def item_suggest(search_item=''):\n",
        "  item, c = zip(*c_item_list)\n",
        "  key=get_id_by_name(search_item)\n",
        "  indx=item.index(int(key))\n",
        "  rate=c[indx]\n",
        "  names=[]\n",
        "  values=[]\n",
        "  for i in rate:\n",
        "    names.append((i[0]))\n",
        "    values.append(i[1])\n",
        "  show(names,values,'Items Suggested','Synergy weights over total games ','Synergy For '+search_item+' Champion With Suggested Items')"
      ],
      "metadata": {
        "id": "e2E4b-Fphj75"
      },
      "execution_count": 304,
      "outputs": []
    },
    {
      "cell_type": "code",
      "source": [
        "item_suggest('Vi')"
      ],
      "metadata": {
        "colab": {
          "base_uri": "https://localhost:8080/",
          "height": 350
        },
        "id": "ISpeJOjDibCY",
        "outputId": "339b15e9-9554-46e4-b07b-c66c0bcfe883"
      },
      "execution_count": 305,
      "outputs": [
        {
          "output_type": "display_data",
          "data": {
            "image/png": "[encoded data removed]",
            "text/plain": [
              "<Figure size 720x360 with 1 Axes>"
            ]
          },
          "metadata": {
            "needs_background": "light"
          }
        }
      ]
    }
  ]
}